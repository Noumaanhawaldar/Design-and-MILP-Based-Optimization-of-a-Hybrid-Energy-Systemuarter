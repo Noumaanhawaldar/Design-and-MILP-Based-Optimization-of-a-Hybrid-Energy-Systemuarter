{
 "cells": [
  {
   "cell_type": "markdown",
   "metadata": {},
   "source": [
    "### Size PV System"
   ]
  },
  {
   "cell_type": "markdown",
   "metadata": {},
   "source": [
    "### PV System Sizing"
   ]
  },
  {
   "cell_type": "code",
   "execution_count": 1,
   "metadata": {},
   "outputs": [],
   "source": [
    "# Function to count how many panels can fit in a provided rectangle.\n",
    "from math import floor\n",
    "\n",
    "def count_small_rectangles(l, w, sl, sw):\n",
    "    if sl <= 0 or sw <= 0 or l <= 0 or w <= 0:\n",
    "        raise ValueError(\"Dimensions must be positive numbers\")\n",
    "\n",
    "    count_lengthwise = (l // sl) * (w // sw)\n",
    "    count_widthwise = (l // sw) * (w // sl)\n",
    "    \n",
    "    return floor(max(count_lengthwise, count_widthwise))\n",
    "\n",
    "def count_small_rectangles(a, sl, sw):\n",
    "    \n",
    "    return floor(a / (sl * sw))"
   ]
  },
  {
   "cell_type": "code",
   "execution_count": 2,
   "metadata": {},
   "outputs": [
    {
     "name": "stdout",
     "output_type": "stream",
     "text": [
      "Number of panels of shape 1.762 x 1.134 m that can fit in an area of 1600 m^2: 800\n"
     ]
    }
   ],
   "source": [
    "l = 40 # Example length for 1600 m2 area\n",
    "w = 40 # Example width for 1600 m2 area\n",
    "a = 1600 # Example area, m2\n",
    "sl = 1.762 # PV Panel length\n",
    "sw = 1.134 # PV Panel width\n",
    "# n_panels = count_small_rectangles(l, w, sl, sw)\n",
    "\n",
    "n_panels = count_small_rectangles(a, sl, sw)\n",
    "print(f\"Number of panels of shape {sl} x {sw} m that can fit in an area of {a} m^2: {n_panels:}\")"
   ]
  },
  {
   "cell_type": "code",
   "execution_count": 6,
   "metadata": {},
   "outputs": [
    {
     "name": "stdout",
     "output_type": "stream",
     "text": [
      "From the total 800 panels. There are 320 panels facing south, 240 panels facing east and 240 panels facing west.\n"
     ]
    }
   ],
   "source": [
    "percentage_so = 0.4\n",
    "percentage_ew = 0.6\n",
    "n_panels_so = floor(n_panels * percentage_so)\n",
    "n_panels_ew = floor(n_panels * percentage_ew)\n",
    "n_panels_eo = n_panels_ew // 2\n",
    "n_panels_wo = n_panels_ew // 2\n",
    "\n",
    "assert n_panels == n_panels_so + n_panels_ew\n",
    "assert n_panels_ew == n_panels_eo + n_panels_wo\n",
    "\n",
    "print(f\"From the total {n_panels} panels. There are {n_panels_so} panels facing south, {n_panels_eo} panels facing east and {n_panels_wo} panels facing west.\")"
   ]
  },
  {
   "cell_type": "code",
   "execution_count": 5,
   "metadata": {},
   "outputs": [
    {
     "name": "stdout",
     "output_type": "stream",
     "text": [
      "The total power of the panels is  356.00 kWp.\n",
      "The power of the panels facing south is  142.40 kWp\n",
      "The power of the panels facing east is  106.80 kWp and the power of the panels facing west is  106.80 kWp.\n"
     ]
    }
   ],
   "source": [
    "panel_nominal_power = 445 # Wp\n",
    "\n",
    "panels_power = n_panels * panel_nominal_power\n",
    "panels_power_so = n_panels_so * panel_nominal_power\n",
    "panels_power_ew = n_panels_ew * panel_nominal_power\n",
    "panels_power_eo = n_panels_eo * panel_nominal_power\n",
    "panels_power_wo = n_panels_wo * panel_nominal_power\n",
    "\n",
    "print(f\"The total power of the panels is {panels_power / 1000: 0.2f} kWp.\\nThe power of the panels facing south is {panels_power_so/ 1000: 0.2f} kWp\\nThe power of the panels facing east is {panels_power_eo/ 1000: 0.2f} kWp and the power of the panels facing west is {panels_power_wo/ 1000: 0.2f} kWp.\")"
   ]
  },
  {
   "cell_type": "markdown",
   "metadata": {},
   "source": [
    "### PV production profile"
   ]
  },
  {
   "cell_type": "markdown",
   "metadata": {},
   "source": [
    "The PV Production profiles were obtained from [this website](https://re.jrc.ec.europa.eu/pvg_tools/en/), using the peak capacity obtained above and also the following information:\n",
    "* Germany Zip code 92224\n",
    "* a slope of 30 degrees\n",
    "* Azimuth of 0 for south, 90 for west and -90 for east facing panels\n",
    "\n",
    "the csv resulting files are used below."
   ]
  },
  {
   "cell_type": "code",
   "execution_count": 52,
   "metadata": {},
   "outputs": [],
   "source": [
    "import pandas as pd\n",
    "\n",
    "def postprocessing(df):\n",
    "    df = df.iloc[:-7]\n",
    "    df['time'] = pd.to_datetime(df['time'], format=\"%Y%m%d:%H%M\")\n",
    "    df = df.set_index('time')\n",
    "    df = df.astype(float)\n",
    "    return df"
   ]
  },
  {
   "cell_type": "code",
   "execution_count": 53,
   "metadata": {},
   "outputs": [],
   "source": [
    "pv_south = postprocessing(pd.read_csv(\"data/pv_south_profile.csv\", header=8))\n",
    "pd_east = postprocessing(pd.read_csv(\"data/pv_east_profile.csv\", header=8))\n",
    "pd_west = postprocessing(pd.read_csv(\"data/pv_west_profile.csv\", header=8))"
   ]
  },
  {
   "cell_type": "code",
   "execution_count": 54,
   "metadata": {},
   "outputs": [],
   "source": [
    "pv_all = pv_south.copy(deep=True)"
   ]
  },
  {
   "cell_type": "code",
   "execution_count": 55,
   "metadata": {},
   "outputs": [],
   "source": [
    "pv_all['P'] = pv_south[\"P\"] + pd_east[\"P\"] + pd_west[\"P\"]\n",
    "pv_all['G(i)'] = pv_south['G(i)'] + pd_east['G(i)'] + pd_west['G(i)']"
   ]
  },
  {
   "cell_type": "code",
   "execution_count": 60,
   "metadata": {},
   "outputs": [],
   "source": [
    "pv_all.to_csv(\"data/pv_complete_profile.csv\", index=True)"
   ]
  },
  {
   "cell_type": "code",
   "execution_count": null,
   "metadata": {},
   "outputs": [],
   "source": []
  }
 ],
 "metadata": {
  "kernelspec": {
   "display_name": "emai",
   "language": "python",
   "name": "python3"
  },
  "language_info": {
   "codemirror_mode": {
    "name": "ipython",
    "version": 3
   },
   "file_extension": ".py",
   "mimetype": "text/x-python",
   "name": "python",
   "nbconvert_exporter": "python",
   "pygments_lexer": "ipython3",
   "version": "3.11.10"
  }
 },
 "nbformat": 4,
 "nbformat_minor": 2
}
